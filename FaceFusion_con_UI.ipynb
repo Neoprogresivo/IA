{
  "nbformat": 4,
  "nbformat_minor": 0,
  "metadata": {
    "colab": {
      "provenance": []
    },
    "kernelspec": {
      "name": "python3",
      "display_name": "Python 3"
    },
    "language_info": {
      "name": "python"
    }
  },
  "cells": [
    {
      "cell_type": "markdown",
      "source": [
        "FaceFusion"
      ],
      "metadata": {
        "id": "KqtzNlp6Ygr1"
      }
    },
    {
      "cell_type": "code",
      "execution_count": null,
      "metadata": {
        "id": "ZlrnUA3i3gMB"
      },
      "outputs": [],
      "source": [
        "!git clone https://github.com/facefusion/facefusion\n",
        "!pip install onnxruntime-gpu && pip install -r /content/facefusion/requirements.txt\n",
        "!pip uninstall onnxruntime onnxruntime-gpu -y\n",
        "!pip install onnxruntime-gpu==1.15.1"
      ]
    },
    {
      "cell_type": "markdown",
      "source": [
        "Al finalizar el segundo código, hacer click en el primer enlace"
      ],
      "metadata": {
        "id": "bjl7R1MBZT_u"
      }
    },
    {
      "cell_type": "code",
      "execution_count": null,
      "metadata": {
        "id": "_cdLzlD0YSJ1"
      },
      "outputs": [],
      "source": [
        "!git clone https://github.com/facefusion/facefusion\n",
        "!pip install onnxruntime-gpu && pip install -r /content/facefusion/requirements.txt\n",
        "!pip uninstall onnxruntime onnxruntime-gpu -y\n",
        "!pip install onnxruntime-gpu==1.15.1"
      ]
    }
  ]
}